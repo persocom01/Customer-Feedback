{
 "cells": [
  {
   "cell_type": "code",
   "execution_count": 44,
   "id": "b365a6b9",
   "metadata": {},
   "outputs": [],
   "source": [
    "import pandas as pd\n",
    "from sklearn.model_selection import train_test_split\n",
    "from sklearn.pipeline import Pipeline\n",
    "from sklearn.model_selection import GridSearchCV\n",
    "from sklearn.feature_extraction.text import TfidfVectorizer\n",
    "from sklearn.preprocessing import StandardScaler\n",
    "from sklearn.linear_model import SGDRegressor\n",
    "from sklearn.metrics import r2_score\n",
    "from sklearn.metrics import mean_absolute_error\n",
    "from sklearn.metrics import mean_squared_error\n",
    "from sklearn.metrics import median_absolute_error\n",
    "from sklearn.metrics import explained_variance_score\n",
    "import pickle\n",
    "import sebastian"
   ]
  },
  {
   "cell_type": "code",
   "execution_count": 36,
   "id": "67b2dcc2",
   "metadata": {},
   "outputs": [],
   "source": [
    "import_path = r'./data/cleaned_reviews.csv'\n",
    "data = pd.read_csv(import_path, index_col=None)"
   ]
  },
  {
   "cell_type": "code",
   "execution_count": 37,
   "id": "230faecd",
   "metadata": {},
   "outputs": [
    {
     "data": {
      "text/html": [
       "<div>\n",
       "<style scoped>\n",
       "    .dataframe tbody tr th:only-of-type {\n",
       "        vertical-align: middle;\n",
       "    }\n",
       "\n",
       "    .dataframe tbody tr th {\n",
       "        vertical-align: top;\n",
       "    }\n",
       "\n",
       "    .dataframe thead th {\n",
       "        text-align: right;\n",
       "    }\n",
       "</style>\n",
       "<table border=\"1\" class=\"dataframe\">\n",
       "  <thead>\n",
       "    <tr style=\"text-align: right;\">\n",
       "      <th></th>\n",
       "      <th>Id</th>\n",
       "      <th>Text</th>\n",
       "      <th>Sentiment</th>\n",
       "    </tr>\n",
       "  </thead>\n",
       "  <tbody>\n",
       "    <tr>\n",
       "      <th>0</th>\n",
       "      <td>1</td>\n",
       "      <td>bought several vitality canned dog food produc...</td>\n",
       "      <td>1.0</td>\n",
       "    </tr>\n",
       "    <tr>\n",
       "      <th>1</th>\n",
       "      <td>2</td>\n",
       "      <td>product arrived labeled jumbo salted peanut pe...</td>\n",
       "      <td>-1.0</td>\n",
       "    </tr>\n",
       "    <tr>\n",
       "      <th>2</th>\n",
       "      <td>3</td>\n",
       "      <td>confection around century light pillowy citrus...</td>\n",
       "      <td>0.5</td>\n",
       "    </tr>\n",
       "    <tr>\n",
       "      <th>3</th>\n",
       "      <td>4</td>\n",
       "      <td>looking secret ingredient robitussin believe f...</td>\n",
       "      <td>-0.5</td>\n",
       "    </tr>\n",
       "    <tr>\n",
       "      <th>4</th>\n",
       "      <td>5</td>\n",
       "      <td>great taffy great price wide assortment yummy ...</td>\n",
       "      <td>1.0</td>\n",
       "    </tr>\n",
       "  </tbody>\n",
       "</table>\n",
       "</div>"
      ],
      "text/plain": [
       "   Id                                               Text  Sentiment\n",
       "0   1  bought several vitality canned dog food produc...        1.0\n",
       "1   2  product arrived labeled jumbo salted peanut pe...       -1.0\n",
       "2   3  confection around century light pillowy citrus...        0.5\n",
       "3   4  looking secret ingredient robitussin believe f...       -0.5\n",
       "4   5  great taffy great price wide assortment yummy ...        1.0"
      ]
     },
     "execution_count": 37,
     "metadata": {},
     "output_type": "execute_result"
    }
   ],
   "source": [
    "data.head()"
   ]
  },
  {
   "cell_type": "code",
   "execution_count": 38,
   "id": "0236b990",
   "metadata": {},
   "outputs": [],
   "source": [
    "X = data['Text']\n",
    "y = data['Sentiment'].values"
   ]
  },
  {
   "cell_type": "code",
   "execution_count": 40,
   "id": "731cde5d",
   "metadata": {},
   "outputs": [],
   "source": [
    "X_train, X_test, y_train, y_test = train_test_split(X, y, random_state=1)"
   ]
  },
  {
   "cell_type": "code",
   "execution_count": 41,
   "id": "f22ac3dd",
   "metadata": {},
   "outputs": [],
   "source": [
    "sebas = sebastian.Sebastian()"
   ]
  },
  {
   "cell_type": "code",
   "execution_count": 55,
   "id": "32cff646",
   "metadata": {},
   "outputs": [
    {
     "data": {
      "text/plain": [
       "GridSearchCV(cv=5,\n",
       "             estimator=Pipeline(steps=[('tvec', TfidfVectorizer()),\n",
       "                                       ('ss', StandardScaler()),\n",
       "                                       ('sgd', SGDRegressor())]),\n",
       "             n_jobs=-1,\n",
       "             param_grid={'sgd__alpha': [1e-07, 1e-06, 1e-05, 0.0001],\n",
       "                         'ss__with_mean': [False],\n",
       "                         'tvec__max_df': [0.3, 0.6, 0.9],\n",
       "                         'tvec__max_features': [2000, 3000, 4000],\n",
       "                         'tvec__min_df': [1, 3, 7],\n",
       "                         'tvec__ngram_range': [(1, 1), (1, 2)],\n",
       "                         'tvec__stop_words': ['english']})"
      ]
     },
     "execution_count": 55,
     "metadata": {},
     "output_type": "execute_result"
    }
   ],
   "source": [
    "pipe = Pipeline([\n",
    "    ('tvec', TfidfVectorizer()),\n",
    "    ('ss', StandardScaler()),\n",
    "    ('sgd', SGDRegressor())\n",
    "])\n",
    "params = {\n",
    "    'tvec__stop_words': ['english'],\n",
    "    'tvec__ngram_range': [(1, 1), (1, 2)],\n",
    "    'tvec__max_df': [.3, .6, .9],\n",
    "    'tvec__min_df': [1, 3, 7],\n",
    "    'tvec__max_features': [2000, 3000, 4000],\n",
    "    'ss__with_mean': [False],\n",
    "    'sgd__alpha': [1e-7, 1e-6, 1e-5, 1e-4],\n",
    "}\n",
    "gs = GridSearchCV(pipe, param_grid=params, cv=5, n_jobs=-1)\n",
    "gs.fit(X_train, y_train)"
   ]
  },
  {
   "cell_type": "code",
   "execution_count": 56,
   "id": "3c09bb43",
   "metadata": {},
   "outputs": [
    {
     "name": "stdout",
     "output_type": "stream",
     "text": [
      "best score: 0.32600843646170485\n",
      "best params: sgd: alpha=0.0001 ss: with_mean=False tvec: max_df=0.3, max_features=2000, min_df=3, ngram_range=(1, 2), stop_words='english'\n",
      "\n"
     ]
    }
   ],
   "source": [
    "print('best score:', gs.best_score_)\n",
    "\n",
    "print('best params:', sebas.get_params(gs.best_params_))\n",
    "print()"
   ]
  },
  {
   "cell_type": "code",
   "execution_count": 57,
   "id": "51f069e5",
   "metadata": {},
   "outputs": [],
   "source": [
    "y_pred = gs.predict(X_test)"
   ]
  },
  {
   "cell_type": "code",
   "execution_count": 58,
   "id": "7f204f24",
   "metadata": {},
   "outputs": [
    {
     "data": {
      "text/plain": [
       "array([0.18058466, 0.44550169, 0.95264411, 0.94779603, 0.78221566,\n",
       "       0.47196871, 0.5900928 , 0.71497193, 0.70317484, 0.64448376])"
      ]
     },
     "execution_count": 58,
     "metadata": {},
     "output_type": "execute_result"
    }
   ],
   "source": [
    "y_pred[:10]"
   ]
  },
  {
   "cell_type": "code",
   "execution_count": 59,
   "id": "7031d074",
   "metadata": {},
   "outputs": [
    {
     "data": {
      "text/plain": [
       "566386    first thing note box smaller normal kraft mac ...\n",
       "323054    love tea great aroma flavor given star poor pa...\n",
       "506842    love love love tea even like licorice friend e...\n",
       "113211    year old llasa apso picky treat buy many diffe...\n",
       "57895     others said high quality gummy product cheapes...\n",
       "332705    soup good promblem product alot sodium besides...\n",
       "103325    good caramel flavor bitter perfect latte buy p...\n",
       "456192    snack good taste like healthy snack satisfying...\n",
       "338766    tried minute ago smell taste like medicine str...\n",
       "325076    ounce pro treat beef liver treat great value d...\n",
       "Name: Text, dtype: object"
      ]
     },
     "execution_count": 59,
     "metadata": {},
     "output_type": "execute_result"
    }
   ],
   "source": [
    "X_test[:10]"
   ]
  },
  {
   "cell_type": "code",
   "execution_count": 60,
   "id": "19a1deac",
   "metadata": {},
   "outputs": [
    {
     "data": {
      "text/plain": [
       "array([-0.5,  0.5,  1. ,  1. ,  1. ,  1. ,  1. ,  1. , -1. ,  1. ])"
      ]
     },
     "execution_count": 60,
     "metadata": {},
     "output_type": "execute_result"
    }
   ],
   "source": [
    "y_test[:10]"
   ]
  },
  {
   "cell_type": "code",
   "execution_count": 61,
   "id": "7ed5c3f6",
   "metadata": {},
   "outputs": [],
   "source": [
    "pickle.dump(gs.best_estimator_, open(r'./data/tfid_sgd.pkl', 'wb'))"
   ]
  },
  {
   "cell_type": "code",
   "execution_count": 62,
   "id": "74630aea",
   "metadata": {},
   "outputs": [],
   "source": [
    "with open(r'./data/tfid_sgd.pkl', 'rb') as f:\n",
    "    model = pickle.load(f)"
   ]
  },
  {
   "cell_type": "code",
   "execution_count": 63,
   "id": "a34ef640",
   "metadata": {},
   "outputs": [],
   "source": [
    "y_pred2 = model.predict(X_test)"
   ]
  },
  {
   "cell_type": "code",
   "execution_count": 64,
   "id": "3683220f",
   "metadata": {},
   "outputs": [
    {
     "data": {
      "text/plain": [
       "array([0.18058466, 0.44550169, 0.95264411, 0.94779603, 0.78221566,\n",
       "       0.47196871, 0.5900928 , 0.71497193, 0.70317484, 0.64448376])"
      ]
     },
     "execution_count": 64,
     "metadata": {},
     "output_type": "execute_result"
    }
   ],
   "source": [
    "y_pred2[:10]"
   ]
  },
  {
   "cell_type": "code",
   "execution_count": null,
   "id": "fcda0e4f",
   "metadata": {},
   "outputs": [],
   "source": []
  },
  {
   "cell_type": "code",
   "execution_count": null,
   "id": "6a66c0f0",
   "metadata": {},
   "outputs": [],
   "source": []
  },
  {
   "cell_type": "code",
   "execution_count": null,
   "id": "bc8c13f7",
   "metadata": {},
   "outputs": [],
   "source": []
  }
 ],
 "metadata": {
  "kernelspec": {
   "display_name": "Python 3",
   "language": "python",
   "name": "python3"
  },
  "language_info": {
   "codemirror_mode": {
    "name": "ipython",
    "version": 3
   },
   "file_extension": ".py",
   "mimetype": "text/x-python",
   "name": "python",
   "nbconvert_exporter": "python",
   "pygments_lexer": "ipython3",
   "version": "3.7.9"
  }
 },
 "nbformat": 4,
 "nbformat_minor": 5
}
